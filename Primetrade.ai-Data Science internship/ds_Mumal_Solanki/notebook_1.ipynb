{
 "cells": [
  {
   "cell_type": "code",
   "execution_count": null,
   "id": "0cb6cb93",
   "metadata": {},
   "outputs": [],
   "source": [
    "# Install and import dependencies\n",
    "import pandas as pd\n",
    "import numpy as np\n",
    "import matplotlib.pyplot as plt\n",
    "import seaborn as sns\n",
    "from datetime import datetime\n",
    "\n",
    "# Load data\n",
    "trader_data = pd.read_csv('/content/csv_files/trader_data.csv')\n",
    "sentiment_data = pd.read_csv('/content/csv_files/sentiment_data.csv')\n",
    "\n",
    "# Preprocessing\n",
    "sentiment_data['Date'] = pd.to_datetime(sentiment_data['Date'])\n",
    "trader_data['time'] = pd.to_datetime(trader_data['time'])\n",
    "\n",
    "# Merge by Date\n",
    "trader_data['date'] = trader_data['time'].dt.date\n",
    "sentiment_data['date'] = sentiment_data['Date'].dt.date\n",
    "merged_df = pd.merge(trader_data, sentiment_data[['date', 'Classification']], on='date', how='left')\n",
    "\n",
    "# Profitability Analysis\n",
    "plt.figure(figsize=(8, 5))\n",
    "sns.histplot(data=merged_df, x='closedPnL', hue='Classification', kde=True)\n",
    "plt.title('Profit Distribution by Sentiment')\n",
    "plt.savefig('outputs/profit_distribution.png')\n",
    "plt.show()\n",
    "\n",
    "# Leverage vs Sentiment\n",
    "plt.figure(figsize=(8, 5))\n",
    "sns.boxplot(data=merged_df, x='Classification', y='leverage')\n",
    "plt.title('Leverage Distribution by Sentiment')\n",
    "plt.savefig('outputs/leverage_vs_sentiment.png')\n",
    "plt.show()\n",
    "\n",
    "# Volume Trends\n",
    "volume_df = merged_df.groupby(['date', 'Classification'])['size'].sum().reset_index()\n",
    "plt.figure(figsize=(10, 5))\n",
    "sns.lineplot(data=volume_df, x='date', y='size', hue='Classification')\n",
    "plt.title('Trading Volume During Fear vs Greed')\n",
    "plt.savefig('outputs/volume_fear_greed_trend.png')\n",
    "plt.show()\n",
    "\n",
    "# Correlation analysis\n",
    "correlation = merged_df[['closedPnL', 'leverage', 'size']].corr()\n",
    "print(\"Correlation Matrix:\\n\", correlation)\n",
    "\n",
    "# Save processed CSV (optional)\n",
    "merged_df.to_csv('csv_files/merged_data.csv', index=False)\n"
   ]
  }
 ],
 "metadata": {
  "language_info": {
   "name": "python"
  }
 },
 "nbformat": 4,
 "nbformat_minor": 5
}
